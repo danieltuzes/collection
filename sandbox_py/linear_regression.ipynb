{
 "cells": [
  {
   "attachments": {},
   "cell_type": "markdown",
   "metadata": {},
   "source": [
    "# Egyenes illesztés pythonban\n",
    "\n",
    "A `statsmodels` csomag tartalmazza az egyenes illesztéshez szükséges kódot. Itt megmutatom, hogyan kell használni, és mi a szerepe a konstansnak. A csomag y = a*x + b illesztést végez, ahol x a független változó (pl idő), y a függő változó (pl út), egy tömbben, vektorként, és b értéke szintén vektor. Ha minden x értékre ugyanaz a b, akkor b értéke egy azonos elemekből álló vektor. A program az a-t illeszti."
   ]
  },
  {
   "cell_type": "code",
   "execution_count": null,
   "metadata": {},
   "outputs": [],
   "source": [
    "import statsmodels.api as sm\n",
    "import random\n",
    "import matplotlib.pyplot as plt\n",
    "import pandas as pd"
   ]
  },
  {
   "cell_type": "code",
   "execution_count": null,
   "metadata": {},
   "outputs": [],
   "source": [
    "X = pd.DataFrame(data=[i for i in range(5)])\n",
    "Y=2*X+3\n",
    "noise = pd.DataFrame(data=[random.randint(0,2) for i in range(5)])\n",
    "Y_n = 2*X+noise\n",
    "plt.scatter(X,Y, label=\"Y\")\n",
    "plt.scatter(X,Y_n, label=\"Y zajjal együtt\")\n",
    "plt.legend()\n",
    "plt.show()"
   ]
  },
  {
   "cell_type": "code",
   "execution_count": null,
   "metadata": {},
   "outputs": [],
   "source": [
    "correlation = X.squeeze().corr(Y.squeeze())\n",
    "print(\"zaj nélkül tökéletesen korrelál\", correlation, correlation**2)\n",
    "\n",
    "correlation = X.squeeze().corr(Y_n.squeeze())\n",
    "print(\"zajjal már nem annyira\", correlation, correlation**2)"
   ]
  },
  {
   "cell_type": "code",
   "execution_count": null,
   "metadata": {},
   "outputs": [],
   "source": [
    "# Az Y = a*X+B összefüggéshez legjobban illő constant a-t keresi meg, B pedig lehet vektor\n",
    "fit_res = sm.OLS(Y_n,X.join(noise.rename(columns={0:\"const\"}))).fit()\n",
    "fit_res.summary()"
   ]
  }
 ],
 "metadata": {
  "kernelspec": {
   "display_name": "for_demo",
   "language": "python",
   "name": "python3"
  },
  "language_info": {
   "codemirror_mode": {
    "name": "ipython",
    "version": 3
   },
   "file_extension": ".py",
   "mimetype": "text/x-python",
   "name": "python",
   "nbconvert_exporter": "python",
   "pygments_lexer": "ipython3",
   "version": "3.10.8 | packaged by conda-forge | (main, Nov 24 2022, 14:07:00) [MSC v.1916 64 bit (AMD64)]"
  },
  "orig_nbformat": 4,
  "vscode": {
   "interpreter": {
    "hash": "9fad99387dbaa1ef062cb3c523a12a63607a7fade685b809124117ae96e3ad80"
   }
  }
 },
 "nbformat": 4,
 "nbformat_minor": 2
}
