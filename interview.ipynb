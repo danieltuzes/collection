{
 "cells": [
  {
   "cell_type": "markdown",
   "metadata": {},
   "source": [
    "# Python interview questions"
   ]
  },
  {
   "cell_type": "markdown",
   "metadata": {},
   "source": [
    "## Simple coding"
   ]
  },
  {
   "cell_type": "code",
   "execution_count": 5,
   "metadata": {},
   "outputs": [],
   "source": [
    "guests = [(\"Adam\", 63), (\"Laura\", 6), (\"Li\", 13), (\"Aaron\", 42)]\n",
    "# write a code that print out the names if they are younger than 21,\n",
    "# separate them by ', ' and put ', ' after the last name\n",
    "# expected: Laura, Li, "
   ]
  },
  {
   "cell_type": "code",
   "execution_count": 10,
   "metadata": {},
   "outputs": [],
   "source": [
    "guesses = [0,1,10,41,42,99,66,18]\n",
    "# create a list of tuples of guesses that missed the number 42 by maximum of 3 and by how much it missed it.\n",
    "# Can you create a 1-liner solution?\n",
    "# expected: [(41,1),(42,0)]"
   ]
  },
  {
   "cell_type": "markdown",
   "metadata": {},
   "source": [
    "## Basic types and properties"
   ]
  },
  {
   "cell_type": "code",
   "execution_count": null,
   "metadata": {},
   "outputs": [],
   "source": [
    "def arg_double(arg):  # what does this function do? What are the types of the accepted arguments?\n",
    "    arg += arg\n",
    "\n",
    "for arg in [1, 'r', [0,1], (0,1)]:\n",
    "    arg_double(arg)\n",
    "    print(arg)  # what is the output"
   ]
  },
  {
   "cell_type": "markdown",
   "metadata": {},
   "source": [
    "What will happen with the scripts below?"
   ]
  },
  {
   "cell_type": "code",
   "execution_count": null,
   "metadata": {},
   "outputs": [],
   "source": [
    "import time\n",
    "i=10\n",
    "while True:\n",
    "    i*=i\n",
    "    print(i)\n",
    "    time.sleep(1)"
   ]
  },
  {
   "cell_type": "code",
   "execution_count": null,
   "metadata": {},
   "outputs": [],
   "source": [
    "import time\n",
    "import numpy\n",
    "a = numpy.array([10])\n",
    "while True:\n",
    "    new_val = a[a.size-1] * a[a.size-1]\n",
    "    print(new_val)\n",
    "    a = numpy.insert(a,a.size,new_val)\n",
    "    time.sleep(1)"
   ]
  },
  {
   "cell_type": "markdown",
   "metadata": {},
   "source": [
    "## Script analysis"
   ]
  },
  {
   "cell_type": "markdown",
   "metadata": {},
   "source": [
    "Look at the code below.\n",
    "\n",
    "1. Is it syntactically correct?\n",
    "2. There are 2 types of stylistic errors. Fix them.\n",
    "3. What does the function print out?\n",
    "4. The code has inefficiencies, spot one that can be known\n",
    "    1. just from the code perspective, without mathematical insights\n",
    "    2. (optional) from a mathemtical perspecitve"
   ]
  },
  {
   "cell_type": "code",
   "execution_count": null,
   "metadata": {},
   "outputs": [],
   "source": [
    "def my_func(n):\n",
    "    mylist = []\n",
    "    for i in range(2,n):\n",
    "        flag = False\n",
    "        for val in mylist:\n",
    "            if (i % val == 0):\n",
    "                flag = True\n",
    "        if (not flag):\n",
    "                mylist.append(i)\n",
    "                print(i)\n",
    "\n",
    "my_func(10)"
   ]
  },
  {
   "cell_type": "markdown",
   "metadata": {},
   "source": [
    "By using the logic above, write a python file that\n",
    "1. can be loaded as a module so that it be called from another python file. Write this other python file and call the generator function with ``n=10``\n",
    "2. can be called as a standalone script, in which case it asks the user to provide ``n``"
   ]
  },
  {
   "cell_type": "markdown",
   "metadata": {},
   "source": [
    "## Collaboration"
   ]
  },
  {
   "cell_type": "markdown",
   "metadata": {},
   "source": [
    "Suppose that the previous file goes into production.\n",
    "1. What would you add to the source code? Can you make it more readable and clearer?\n",
    "2. What is PEP and what is linting? How are they related?\n",
    "3. How do you write unit test for this function?\n",
    "4. How do you create python package of the code?"
   ]
  },
  {
   "cell_type": "markdown",
   "metadata": {},
   "source": [
    "On a given computer and user profile, you need to occasionally run two different models, model A and model B. Model A requires a version XA of package P, and model B requires version XB. How do you prepare your account to be able to run either Model A and Model B?"
   ]
  }
 ],
 "metadata": {
  "kernelspec": {
   "display_name": "newest",
   "language": "python",
   "name": "python3"
  },
  "language_info": {
   "codemirror_mode": {
    "name": "ipython",
    "version": 3
   },
   "file_extension": ".py",
   "mimetype": "text/x-python",
   "name": "python",
   "nbconvert_exporter": "python",
   "pygments_lexer": "ipython3",
   "version": "3.10.4"
  }
 },
 "nbformat": 4,
 "nbformat_minor": 2
}
