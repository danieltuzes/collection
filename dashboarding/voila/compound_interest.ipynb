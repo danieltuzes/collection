{
 "cells": [
  {
   "attachments": {},
   "cell_type": "markdown",
   "metadata": {},
   "source": [
    "# Compound interest\n",
    "\n",
    "This is a Jupyter Voilà example showing how a minimalist webapplication looks like. You can hardly change the design, but content can be easily modified or added if you have access to the underyling Jupyter notebook. Voilà turns a Jupyter notebook into a webapplication with the help of Jupyter widgets which can potentially be used in onsite Jupyter notebooks too. Jupyter notebooks are usually not exposed to Internet-public pages, because arbitrary codes could be executed, which is dangerous for the server owner. Jupyter widgets give the possibility to modify vairables without exposing the source code, limiting the interaction between the user and the server to some selected operation, thus solving the security issue of exposed Jupyter notebooks.\n",
    "\n",
    "In my [other flask example](http://tuzes.elte.hu:5000/calc) I have full control over the design, content and code, but it also means that I have to provide the glue between\n",
    "\n",
    "- HTML request,\n",
    "- python calculation and\n",
    "- rendering the result\n",
    "- return server response\n",
    "\n",
    "Here I only have to have a python environment with the proper python packages, wite the python code, and nothing else (wqeb query, webserver, HTML) needs to be taken care of."
   ]
  },
  {
   "cell_type": "code",
   "execution_count": 59,
   "metadata": {},
   "outputs": [
    {
     "data": {
      "application/vnd.jupyter.widget-view+json": {
       "model_id": "459b92bf68d044c090a5ae154a13d15b",
       "version_major": 2,
       "version_minor": 0
      },
      "text/plain": [
       "HBox(children=(Label(value='Interest rate (%)', layout=Layout(display='flex', justify_content='flex-end', widt…"
      ]
     },
     "metadata": {},
     "output_type": "display_data"
    },
    {
     "data": {
      "application/vnd.jupyter.widget-view+json": {
       "model_id": "52429fef3d374b7ba4cef945ad6e8fcc",
       "version_major": 2,
       "version_minor": 0
      },
      "text/plain": [
       "HBox(children=(Label(value='Yearly savings ($)', layout=Layout(display='flex', justify_content='flex-end', wid…"
      ]
     },
     "metadata": {},
     "output_type": "display_data"
    },
    {
     "data": {
      "application/vnd.jupyter.widget-view+json": {
       "model_id": "bd05e13d864a42558b8e371342befdab",
       "version_major": 2,
       "version_minor": 0
      },
      "text/plain": [
       "HBox(children=(Label(value='Term (year)', layout=Layout(display='flex', justify_content='flex-end', width='10e…"
      ]
     },
     "metadata": {},
     "output_type": "display_data"
    },
    {
     "data": {
      "application/vnd.jupyter.widget-view+json": {
       "model_id": "4f3da95ebe544a76870f401ad1d87407",
       "version_major": 2,
       "version_minor": 0
      },
      "text/plain": [
       "HBox(children=(Label(value='Initial saving ($)', layout=Layout(display='flex', justify_content='flex-end', wid…"
      ]
     },
     "metadata": {},
     "output_type": "display_data"
    },
    {
     "data": {
      "application/vnd.jupyter.widget-view+json": {
       "model_id": "929416a9cf9d420c96688884eb6aeaab",
       "version_major": 2,
       "version_minor": 0
      },
      "text/plain": [
       "VBox(children=(Button(description='Recalculate!', style=ButtonStyle()), Output()))"
      ]
     },
     "metadata": {},
     "output_type": "display_data"
    }
   ],
   "source": [
    "from ipywidgets import FloatText, IntText, Layout, HBox, VBox, Label, Button, Output, HTML\n",
    "from IPython.display import display, Markdown, clear_output\n",
    "import numpy\n",
    "import matplotlib.pyplot as plt\n",
    "\n",
    "params = {\n",
    "    \"interest_rate\": [1., \"Interest rate (%)\"],\n",
    "    \"yearly_savings\": [10_000., \"Yearly savings ($)\"],\n",
    "    \"term\": [10, \"Term (year)\"],\n",
    "    \"initial_saving\": [100_000., \"Initial saving ($)\"]\n",
    "    }\n",
    "\n",
    "output = Output()\n",
    "\n",
    "mwidgets = {}\n",
    "for name, param in params.items():\n",
    "    if isinstance(param[0], float):\n",
    "        mwidgets[name] = FloatText(\n",
    "            value=param[0],\n",
    "            disabled=False,\n",
    "            )\n",
    "    elif isinstance(param[0], int):\n",
    "        mwidgets[name] = IntText(\n",
    "            value=param[0],\n",
    "            disabled=False\n",
    "            )\n",
    "    \n",
    "    display(HBox([Label(param[1], layout=Layout(width=\"10em\", display=\"flex\", justify_content=\"flex-end\")),mwidgets[name]]))\n",
    "\n",
    "def recalculate(arg):\n",
    "    with output:\n",
    "        clear_output()\n",
    "        \n",
    "        savings = [mwidgets[\"initial_saving\"].value,\n",
    "                   mwidgets[\"initial_saving\"].value * (1 + mwidgets[\"interest_rate\"].value/100)]\n",
    "        term = int(mwidgets[\"term\"].value)\n",
    "\n",
    "        for _ in range(0, term-1):\n",
    "            savings.append(\n",
    "                savings[-1] * (1 + mwidgets[\"interest_rate\"].value/100) + mwidgets[\"yearly_savings\"].value)\n",
    "        \n",
    "        display(Markdown(\"Total savings ($): {:.0f}\".format(savings[-1])))\n",
    "        table = \"\"\"\n",
    "## Explanation:\n",
    "        \n",
    "| time (year) | Actual saving ($)|\n",
    "| ----------: |:-----------------|\n",
    "\"\"\"\n",
    "\n",
    "        table += \"| Initial | {:.0f}|\\n\".format(savings[0])\n",
    "        for year, saving in enumerate(savings[1:]):\n",
    "            table += \"| {} | {:.0f}|\\n\".format(year+1,saving)\n",
    "        display(Markdown(table))\n",
    "        years = [*range(0, mwidgets[\"term\"].value+1)]\n",
    "        labels = years[:]\n",
    "        labels[0] = \"initial\"\n",
    "        plt.clf()\n",
    "\n",
    "        plt.suptitle('Total savings at the end of the years')\n",
    "        plt.xticks(ticks=years, labels=labels)\n",
    "\n",
    "        plt.ylabel('Actual saving ($1000)')\n",
    "        plt.xlabel('time (year)')\n",
    "        \n",
    "        savings = numpy.array(savings)\n",
    "        plt.bar(years, savings/1000)\n",
    "\n",
    "        plt.show()\n",
    "        \n",
    "button = Button(description=\"Recalculate!\")\n",
    "button.on_click(recalculate)\n",
    "VBox([button,output])"
   ]
  },
  {
   "cell_type": "code",
   "execution_count": null,
   "metadata": {},
   "outputs": [],
   "source": []
  }
 ],
 "metadata": {
  "kernelspec": {
   "display_name": "newest",
   "language": "python",
   "name": "python3"
  },
  "language_info": {
   "codemirror_mode": {
    "name": "ipython",
    "version": 3
   },
   "file_extension": ".py",
   "mimetype": "text/x-python",
   "name": "python",
   "nbconvert_exporter": "python",
   "pygments_lexer": "ipython3",
   "version": "3.10.4 | packaged by conda-forge | (main, Mar 30 2022, 08:38:02) [MSC v.1916 64 bit (AMD64)]"
  },
  "vscode": {
   "interpreter": {
    "hash": "79c64ce34691776fb37d622918f161481ce320949e7c54657329e2ea3e4ec0d7"
   }
  }
 },
 "nbformat": 4,
 "nbformat_minor": 4
}
